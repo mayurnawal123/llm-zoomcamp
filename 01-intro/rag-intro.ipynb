{
 "cells": [
  {
   "cell_type": "code",
   "execution_count": 2,
   "id": "155f85a4-49cf-4489-afe8-bc595f622b3b",
   "metadata": {},
   "outputs": [
    {
     "name": "stdout",
     "output_type": "stream",
     "text": [
      "--2025-04-02 06:37:12--  https://raw.githubusercontent.com/alexeygrigorev/minsearch/main/minsearch.py\n",
      "Resolving raw.githubusercontent.com (raw.githubusercontent.com)... 2606:50c0:8001::154, 2606:50c0:8000::154, 2606:50c0:8002::154, ...\n",
      "Connecting to raw.githubusercontent.com (raw.githubusercontent.com)|2606:50c0:8001::154|:443... connected.\n",
      "HTTP request sent, awaiting response... 200 OK\n",
      "Length: 3832 (3.7K) [text/plain]\n",
      "Saving to: ‘minsearch.py.1’\n",
      "\n",
      "minsearch.py.1      100%[===================>]   3.74K  --.-KB/s    in 0.001s  \n",
      "\n",
      "2025-04-02 06:37:13 (6.45 MB/s) - ‘minsearch.py.1’ saved [3832/3832]\n",
      "\n"
     ]
    }
   ],
   "source": [
    "!wget https://raw.githubusercontent.com/alexeygrigorev/minsearch/main/minsearch.py"
   ]
  },
  {
   "cell_type": "code",
   "execution_count": 3,
   "id": "63b0fd25-41a2-48ad-b9bf-3f1265308bd4",
   "metadata": {},
   "outputs": [],
   "source": [
    "import minsearch"
   ]
  },
  {
   "cell_type": "code",
   "execution_count": 4,
   "id": "9b37cce2-ed84-408b-9106-d61360aa82c9",
   "metadata": {},
   "outputs": [],
   "source": [
    "import json"
   ]
  },
  {
   "cell_type": "code",
   "execution_count": 5,
   "id": "5bdaf6ce-2540-494f-989c-5b94b1b6626c",
   "metadata": {},
   "outputs": [],
   "source": [
    "with open('documents.json', 'rt') as f_in:\n",
    "    docs_raw = json.load(f_in)"
   ]
  },
  {
   "cell_type": "code",
   "execution_count": 6,
   "id": "42b9b1f9-3c90-42b0-beb4-cb419f9cdcea",
   "metadata": {},
   "outputs": [],
   "source": [
    "documents = []\n",
    "\n",
    "for course_dict in docs_raw:\n",
    "    # print(course_dict)\n",
    "    for doc in course_dict['documents']:\n",
    "        doc['course'] = course_dict['course']\n",
    "        documents.append(doc)"
   ]
  },
  {
   "cell_type": "code",
   "execution_count": 7,
   "id": "57de60e5-b96c-499c-a7cf-0f30fc33b324",
   "metadata": {},
   "outputs": [
    {
     "data": {
      "text/plain": [
       "{'text': \"The purpose of this document is to capture frequently asked technical questions\\nThe exact day and hour of the course will be 15th Jan 2024 at 17h00. The course will start with the first  “Office Hours'' live.1\\nSubscribe to course public Google Calendar (it works from Desktop only).\\nRegister before the course starts using this link.\\nJoin the course Telegram channel with announcements.\\nDon’t forget to register in DataTalks.Club's Slack and join the channel.\",\n",
       " 'section': 'General course-related questions',\n",
       " 'question': 'Course - When will the course start?',\n",
       " 'course': 'data-engineering-zoomcamp'}"
      ]
     },
     "execution_count": 7,
     "metadata": {},
     "output_type": "execute_result"
    }
   ],
   "source": [
    "documents[0]"
   ]
  },
  {
   "cell_type": "code",
   "execution_count": 7,
   "id": "c499838b-73b3-44be-8ba6-f46d3693aa59",
   "metadata": {},
   "outputs": [],
   "source": [
    "index = minsearch.Index(\n",
    "    text_fields=[\"question\", \"text\", \"section\"],\n",
    "    keyword_fields=[\"course\"]\n",
    ")"
   ]
  },
  {
   "cell_type": "markdown",
   "id": "e201f0f3-b380-43a5-95ee-62b1b79002d1",
   "metadata": {},
   "source": [
    "SELECT * WHERE course = 'data-engineering-zoomcamp';"
   ]
  },
  {
   "cell_type": "code",
   "execution_count": 8,
   "id": "a8d8ea88-7412-49c1-8a8e-44d0d0862a17",
   "metadata": {},
   "outputs": [],
   "source": [
    "q = 'the course has already started, can I still enroll?'"
   ]
  },
  {
   "cell_type": "code",
   "execution_count": 9,
   "id": "ce7d0d18-5c07-4010-9f90-bbd021f110c8",
   "metadata": {},
   "outputs": [
    {
     "data": {
      "text/plain": [
       "<minsearch.Index at 0x11c8b6830>"
      ]
     },
     "execution_count": 9,
     "metadata": {},
     "output_type": "execute_result"
    }
   ],
   "source": [
    "index.fit(documents)"
   ]
  },
  {
   "cell_type": "markdown",
   "id": "58192a11",
   "metadata": {},
   "source": [
    "# mistral "
   ]
  },
  {
   "cell_type": "code",
   "execution_count": 11,
   "id": "469fc073",
   "metadata": {},
   "outputs": [
    {
     "name": "stdout",
     "output_type": "stream",
     "text": [
      "Determining the \"best\" French cheese can be highly subjective, as it depends on personal taste preferences. France is renowned for its diverse and rich cheese culture, with over 1,600 different types of cheese. Here are a few highly regarded French cheeses across various categories:\n",
      "\n",
      "1. **Soft Cheeses**:\n",
      "   - **Brie de Meaux**: Known for its creamy interior and bloomy rind.\n",
      "   - **Camembert de Normandie**: A famous soft, creamy cheese with a distinctive aroma.\n",
      "\n",
      "2. **Semi-Soft Cheeses**:\n",
      "   - **Reblochon**: A savory cheese from the Alps, often used in tartiflette.\n",
      "   - **Morbier**: Recognizable by its layer of ash in the middle.\n",
      "\n",
      "3. **Hard Cheeses**:\n",
      "   - **Comté**: A fruity and complex cheese made from unpasteurized cow's milk.\n",
      "   - **Beaufort**: A firm, raw cow's milk cheese with a strong, nutty flavor.\n",
      "\n",
      "4. **Blue Cheeses**:\n",
      "   - **Roquefort**: A tangy, crumbly blue cheese made from sheep's milk.\n",
      "   - **Bleu d'Auvergne**: A strong, creamy blue cheese from the Auvergne region.\n",
      "\n",
      "5. **Goat Cheeses**:\n",
      "   - **Crottin de Chavignol**: A versatile goat cheese that can be enjoyed at various stages of ripeness.\n",
      "   - **Sainte-Maure de Touraine**: A log-shaped goat cheese with a distinctive gray ash coating.\n",
      "\n",
      "Ultimately, the \"best\" French cheese is the one you enjoy the most. It's always a good idea to try a variety to discover your personal favorite.\n"
     ]
    }
   ],
   "source": [
    "import os\n",
    "from mistralai import Mistral\n",
    "\n",
    "api_key = os.getenv(\"MISTRAL_API_KEY\")\n",
    "model = \"mistral-large-latest\"\n",
    "\n",
    "client = Mistral(api_key=api_key)\n",
    "\n",
    "chat_response = client.chat.complete(\n",
    "    model= model,\n",
    "    messages = [\n",
    "        {\n",
    "            \"role\": \"user\",\n",
    "            \"content\": \"What is the best French cheese?\",\n",
    "        },\n",
    "    ]\n",
    ")\n",
    "print(chat_response.choices[0].message.content)"
   ]
  },
  {
   "cell_type": "code",
   "execution_count": 30,
   "id": "7c08d785",
   "metadata": {},
   "outputs": [],
   "source": [
    "from openai import OpenAI\n",
    "from dotenv import load_dotenv\n",
    "import os\n",
    "\n",
    "# Load variables from .env file\n",
    "load_dotenv()\n",
    "\n",
    "# Read the key from the environment\n",
    "api_key = os.getenv(\"OPENAI_API_KEY\")\n",
    "\n",
    "# Initialize the client\n",
    "client = OpenAI(api_key=api_key)"
   ]
  },
  {
   "cell_type": "code",
   "execution_count": 31,
   "id": "e7da9664-ecb3-4d89-87da-9b2b942444d0",
   "metadata": {},
   "outputs": [
    {
     "data": {
      "text/plain": [
       "\"Whether you can still enroll in a course that has already started depends on the specific policies of the institution offering the course. Here are some steps you can take to find out:\\n\\n1. **Check the Institution's Policy:** Visit the course or institution's website to see if they mention late enrollment policies or deadlines.\\n\\n2. **Contact the Instructor or Admissions Office:** Reach out directly to the course instructor or the admissions office to inquire about the possibility of late enrollment. They may be able to provide exceptions or let you know if it's feasible to catch up.\\n\\n3. **Consider the Course Format:** If the course is offered online or allows for self-paced learning, there might be more flexibility in joining after the start date.\\n\\n4. **Assess the Impact:** Consider whether starting late will impact your ability to keep up with coursework and participate effectively. You might need to commit extra time initially to catch up.\\n\\n5. **Consider Payment or Fees:** Late enrollment might affect tuition fees or eligible refunds, so it's important to clarify any financial implications.\\n\\nIf you decide to pursue late enrollment, be prepared to demonstrate eagerness and the ability to catch up quickly.\""
      ]
     },
     "execution_count": 31,
     "metadata": {},
     "output_type": "execute_result"
    }
   ],
   "source": [
    "response = client.chat.completions.create(\n",
    "    model='gpt-4o',\n",
    "    messages=[{\"role\": \"user\", \"content\": q}]\n",
    ")\n",
    "\n",
    "response.choices[0].message.content\n",
    "\n"
   ]
  },
  {
   "cell_type": "code",
   "execution_count": 32,
   "id": "b21237c3-80e9-429c-a089-d45428087046",
   "metadata": {},
   "outputs": [],
   "source": [
    "def search(query):\n",
    "    boost = {'question': 3.0, 'section': 0.5}\n",
    "\n",
    "    results = index.search(\n",
    "        query=query,\n",
    "        filter_dict={'course': 'data-engineering-zoomcamp'},\n",
    "        boost_dict=boost,\n",
    "        num_results=5\n",
    "    )\n",
    "\n",
    "    return results"
   ]
  },
  {
   "cell_type": "code",
   "execution_count": 33,
   "id": "8cc5784e-6515-42e5-be62-8fb915df1088",
   "metadata": {},
   "outputs": [],
   "source": [
    "def build_prompt(query, search_results):\n",
    "    prompt_template = \"\"\"\n",
    "You're a course teaching assistant. Answer the QUESTION based on the CONTEXT from the FAQ database.\n",
    "Use only the facts from the CONTEXT when answering the QUESTION.\n",
    "\n",
    "QUESTION: {question}\n",
    "\n",
    "CONTEXT: \n",
    "{context}\n",
    "\"\"\".strip()\n",
    "\n",
    "    context = \"\"\n",
    "    \n",
    "    for doc in search_results:\n",
    "        context = context + f\"section: {doc['section']}\\nquestion: {doc['question']}\\nanswer: {doc['text']}\\n\\n\"\n",
    "    \n",
    "    prompt = prompt_template.format(question=query, context=context).strip()\n",
    "    return prompt"
   ]
  },
  {
   "cell_type": "code",
   "execution_count": 34,
   "id": "97d35dec-c25f-472d-b961-20d5c30902ae",
   "metadata": {},
   "outputs": [],
   "source": [
    "def llm(prompt):\n",
    "    response = client.chat.completions.create(\n",
    "        model='gpt-4o',\n",
    "        messages=[{\"role\": \"user\", \"content\": prompt}]\n",
    "    )\n",
    "    \n",
    "    return response.choices[0].message.content"
   ]
  },
  {
   "cell_type": "code",
   "execution_count": 35,
   "id": "708e3d76",
   "metadata": {},
   "outputs": [],
   "source": [
    "query = 'how do I run kafka?'\n",
    "\n",
    "def rag(query):\n",
    "    search_results = search(query)\n",
    "    prompt = build_prompt(query, search_results)\n",
    "    answer = llm(prompt)\n",
    "    return answer"
   ]
  },
  {
   "cell_type": "code",
   "execution_count": 36,
   "id": "a11c8996",
   "metadata": {},
   "outputs": [
    {
     "data": {
      "text/plain": [
       "'To run Kafka, you can execute the following command in the project directory:\\n\\n```\\njava -cp build/libs/<jar_name>-1.0-SNAPSHOT.jar:out src/main/java/org/example/JsonProducer.java\\n```'"
      ]
     },
     "execution_count": 36,
     "metadata": {},
     "output_type": "execute_result"
    }
   ],
   "source": [
    "rag(query)"
   ]
  },
  {
   "cell_type": "code",
   "execution_count": 20,
   "id": "9809c2d1",
   "metadata": {},
   "outputs": [],
   "source": [
    "# # mistral llmprompt\n",
    "# def llm(prompt):\n",
    "#     response = client.chat.completions.create(\n",
    "#         model=\"mistral-large-latest\",\n",
    "#         messages=[{\"role\": \"user\", \"content\": prompt}]\n",
    "#     )\n",
    "    \n",
    "#     return response.choices[0].message.content\n",
    "\n",
    "def run_mistral(user_message, model=\"mistral-large-latest\"):\n",
    "    messages = [\n",
    "        {\n",
    "            \"role\": \"user\", \"content\": user_message\n",
    "        }\n",
    "    ]\n",
    "    chat_response = client.chat.complete(\n",
    "        model=model,\n",
    "        messages=messages\n",
    "    )\n",
    "    return (chat_response.choices[0].message.content)\n",
    "\n",
    "# run_mistral(prompt)"
   ]
  },
  {
   "cell_type": "code",
   "execution_count": 21,
   "id": "8602f40b-ad3b-49c9-b3cc-051a79c888bc",
   "metadata": {},
   "outputs": [],
   "source": [
    "query = 'how do I run kafka?'\n",
    "\n",
    "def rag(query):\n",
    "    search_results = search(query)\n",
    "    prompt = build_prompt(query, search_results)\n",
    "    # answer = llm(prompt)\n",
    "    answer = run_mistral(prompt)\n",
    "    return answer"
   ]
  },
  {
   "cell_type": "code",
   "execution_count": 22,
   "id": "983df025",
   "metadata": {},
   "outputs": [
    {
     "data": {
      "text/plain": [
       "'To run Kafka, you can follow these instructions based on the context provided:\\n\\nFor Java Kafka, to run a producer/consumer/kstreams/etc in the terminal, navigate to the project directory and execute:\\n```\\njava -cp build/libs/<jar_name>-1.0-SNAPSHOT.jar:out src/main/java/org/example/JsonProducer.java\\n```\\n\\nFor Python Kafka, if you encounter the \"Module \\'kafka\\' not found\" error when trying to run `producer.py`, follow these steps to create a virtual environment and run the Python files:\\n\\n1. Create a virtual environment:\\n   ```\\n   python -m venv env\\n   ```\\n\\n2. Activate the virtual environment:\\n   - On MacOS and Linux:\\n     ```\\n     source env/bin/activate\\n     ```\\n   - On Windows:\\n     ```\\n     .\\\\env\\\\Scripts\\\\activate\\n     ```\\n\\n3. Install the required packages:\\n   ```\\n   pip install -r ../requirements.txt\\n   ```\\n\\n4. Ensure Docker images are up and running before executing the Python file.\\n\\n5. Deactivate the virtual environment when done:\\n   ```\\n   deactivate\\n   ```\\n\\nIf you encounter a \"Permission denied\" error when running `./build.sh`, execute the following command in the terminal within the same directory (`/docker/spark`):\\n```\\nchmod +x build.sh\\n```\\n\\nIf you encounter the error \"ModuleNotFoundError: No module named \\'kafka.vendor.six.moves\\',\" it is suggested to use the following command:\\n```\\npip install kafka-python-ng\\n```'"
      ]
     },
     "execution_count": 22,
     "metadata": {},
     "output_type": "execute_result"
    }
   ],
   "source": [
    "rag(query)"
   ]
  },
  {
   "cell_type": "markdown",
   "id": "bfea0fff",
   "metadata": {},
   "source": []
  },
  {
   "cell_type": "code",
   "execution_count": 16,
   "id": "5fd4497b-c5d5-4258-b950-6b35d1af4ec5",
   "metadata": {},
   "outputs": [
    {
     "data": {
      "text/plain": [
       "'To run Kafka using Java in the terminal, navigate to the project directory and execute the following command:\\n\\n```bash\\njava -cp build/libs/<jar_name>-1.0-SNAPSHOT.jar:out src/main/java/org/example/JsonProducer.java\\n```\\n\\nReplace `<jar_name>` with the actual name of your jar file.'"
      ]
     },
     "execution_count": 16,
     "metadata": {},
     "output_type": "execute_result"
    }
   ],
   "source": [
    "rag(query)"
   ]
  },
  {
   "cell_type": "code",
   "execution_count": 17,
   "id": "385b012f-4905-422d-8d7c-3d542dfe5a7c",
   "metadata": {},
   "outputs": [
    {
     "data": {
      "text/plain": [
       "\"Yes, you can still enroll in the course after it has started. Even if you don't register, you are eligible to submit the homeworks. However, be mindful of the deadlines for the final projects and try not to leave everything for the last minute.\""
      ]
     },
     "execution_count": 17,
     "metadata": {},
     "output_type": "execute_result"
    }
   ],
   "source": [
    "rag('the course has already started, can I still enroll?')"
   ]
  },
  {
   "cell_type": "code",
   "execution_count": 18,
   "id": "d3e04fb3-b7f7-4e53-8de9-a1c6cde3f038",
   "metadata": {},
   "outputs": [
    {
     "data": {
      "text/plain": [
       "{'text': \"The purpose of this document is to capture frequently asked technical questions\\nThe exact day and hour of the course will be 15th Jan 2024 at 17h00. The course will start with the first  “Office Hours'' live.1\\nSubscribe to course public Google Calendar (it works from Desktop only).\\nRegister before the course starts using this link.\\nJoin the course Telegram channel with announcements.\\nDon’t forget to register in DataTalks.Club's Slack and join the channel.\",\n",
       " 'section': 'General course-related questions',\n",
       " 'question': 'Course - When will the course start?',\n",
       " 'course': 'data-engineering-zoomcamp'}"
      ]
     },
     "execution_count": 18,
     "metadata": {},
     "output_type": "execute_result"
    }
   ],
   "source": [
    "documents[0]"
   ]
  },
  {
   "cell_type": "code",
   "execution_count": 19,
   "id": "2c05052f-a85a-4137-8398-0fd0be678599",
   "metadata": {},
   "outputs": [],
   "source": [
    "from elasticsearch import Elasticsearch"
   ]
  },
  {
   "cell_type": "code",
   "execution_count": 20,
   "id": "a78df1cc-5a5a-40b4-b673-19c7f0319453",
   "metadata": {},
   "outputs": [],
   "source": [
    "es_client = Elasticsearch('http://localhost:9200') "
   ]
  },
  {
   "cell_type": "code",
   "execution_count": null,
   "id": "385266c0",
   "metadata": {},
   "outputs": [],
   "source": []
  },
  {
   "cell_type": "code",
   "execution_count": null,
   "id": "c9367c18-41ad-495e-9920-1a0c552f0d18",
   "metadata": {},
   "outputs": [],
   "source": [
    "index_settings = {\n",
    "    \"settings\": {\n",
    "        \"number_of_shards\": 1,\n",
    "        \"number_of_replicas\": 0\n",
    "    },\n",
    "    \"mappings\": {\n",
    "        \"properties\": {\n",
    "            \"text\": {\"type\": \"text\"},\n",
    "            \"section\": {\"type\": \"text\"},\n",
    "            \"question\": {\"type\": \"text\"},\n",
    "            \"course\": {\"type\": \"keyword\"} \n",
    "        }\n",
    "    }\n",
    "}\n",
    "\n",
    "index_name = \"course-questions\"\n",
    "\n",
    "es_client.indices.create(index=index_name, body=index_settings)"
   ]
  },
  {
   "cell_type": "code",
   "execution_count": null,
   "id": "ab7185f6",
   "metadata": {},
   "outputs": [],
   "source": []
  },
  {
   "cell_type": "code",
   "execution_count": 22,
   "id": "9f778c93-a5b6-4634-b42e-0c25083a2512",
   "metadata": {},
   "outputs": [
    {
     "data": {
      "text/plain": [
       "{'text': \"The purpose of this document is to capture frequently asked technical questions\\nThe exact day and hour of the course will be 15th Jan 2024 at 17h00. The course will start with the first  “Office Hours'' live.1\\nSubscribe to course public Google Calendar (it works from Desktop only).\\nRegister before the course starts using this link.\\nJoin the course Telegram channel with announcements.\\nDon’t forget to register in DataTalks.Club's Slack and join the channel.\",\n",
       " 'section': 'General course-related questions',\n",
       " 'question': 'Course - When will the course start?',\n",
       " 'course': 'data-engineering-zoomcamp'}"
      ]
     },
     "execution_count": 22,
     "metadata": {},
     "output_type": "execute_result"
    }
   ],
   "source": [
    "documents[0]"
   ]
  },
  {
   "cell_type": "code",
   "execution_count": 23,
   "id": "5c230059-e219-4a13-a7f8-ede4cf1b028f",
   "metadata": {},
   "outputs": [
    {
     "name": "stderr",
     "output_type": "stream",
     "text": [
      "/Users/mayurnawal/anaconda3/envs/llm_zoomcamp/lib/python3.10/site-packages/tqdm/auto.py:21: TqdmWarning: IProgress not found. Please update jupyter and ipywidgets. See https://ipywidgets.readthedocs.io/en/stable/user_install.html\n",
      "  from .autonotebook import tqdm as notebook_tqdm\n"
     ]
    }
   ],
   "source": [
    "from tqdm.auto import tqdm"
   ]
  },
  {
   "cell_type": "code",
   "execution_count": 24,
   "id": "70fe3c97-916d-42c0-bd7b-4f42d9056409",
   "metadata": {},
   "outputs": [
    {
     "name": "stderr",
     "output_type": "stream",
     "text": [
      "  0%|          | 0/948 [00:00<?, ?it/s]"
     ]
    },
    {
     "name": "stderr",
     "output_type": "stream",
     "text": [
      "100%|██████████| 948/948 [00:01<00:00, 611.18it/s]\n"
     ]
    }
   ],
   "source": [
    "for doc in tqdm(documents):\n",
    "    es_client.index(index=index_name, document=doc)"
   ]
  },
  {
   "cell_type": "code",
   "execution_count": 25,
   "id": "f1bc1244-b8dc-4228-8171-c0507004db93",
   "metadata": {},
   "outputs": [],
   "source": [
    "query = 'I just disovered the course. Can I still join it?'"
   ]
  },
  {
   "cell_type": "code",
   "execution_count": 26,
   "id": "7c72e000-910b-4fb5-aa88-2561e7bc39f2",
   "metadata": {},
   "outputs": [],
   "source": [
    "def elastic_search(query):\n",
    "    search_query = {\n",
    "        \"size\": 5,\n",
    "        \"query\": {\n",
    "            \"bool\": {\n",
    "                \"must\": {\n",
    "                    \"multi_match\": {\n",
    "                        \"query\": query,\n",
    "                        \"fields\": [\"question^3\", \"text\", \"section\"],\n",
    "                        \"type\": \"best_fields\"\n",
    "                    }\n",
    "                },\n",
    "                \"filter\": {\n",
    "                    \"term\": {\n",
    "                        \"course\": \"data-engineering-zoomcamp\"\n",
    "                    }\n",
    "                }\n",
    "            }\n",
    "        }\n",
    "    }\n",
    "\n",
    "    response = es_client.search(index=index_name, body=search_query)\n",
    "    \n",
    "    result_docs = []\n",
    "    \n",
    "    for hit in response['hits']['hits']:\n",
    "        result_docs.append(hit['_source'])\n",
    "    \n",
    "    return result_docs"
   ]
  },
  {
   "cell_type": "code",
   "execution_count": 27,
   "id": "81abecbc-eb6b-428f-ab7d-7e21f58b64de",
   "metadata": {},
   "outputs": [],
   "source": [
    "def rag(query):\n",
    "    search_results = elastic_search(query)\n",
    "    prompt = build_prompt(query, search_results)\n",
    "    answer = llm(prompt)\n",
    "    return answer"
   ]
  },
  {
   "cell_type": "code",
   "execution_count": 28,
   "id": "0ea9315a-a619-4066-9e90-8c260f2c8450",
   "metadata": {},
   "outputs": [
    {
     "data": {
      "text/plain": [
       "\"Yes, you can still join the course even after the start date. You are eligible to submit the homework even if you don't register. Just be aware that there will be deadlines for turning in the final projects, so it is advisable not to leave everything for the last minute.\""
      ]
     },
     "execution_count": 28,
     "metadata": {},
     "output_type": "execute_result"
    }
   ],
   "source": [
    "rag(query)"
   ]
  },
  {
   "cell_type": "code",
   "execution_count": null,
   "id": "d8095274-c9cd-4fd5-80d2-069fc951834f",
   "metadata": {},
   "outputs": [],
   "source": [
    "import requests \n",
    "\n",
    "docs_url = 'https://github.com/DataTalksClub/llm-zoomcamp/blob/main/01-intro/documents.json?raw=1'\n",
    "docs_response = requests.get(docs_url)\n",
    "documents_raw = docs_response.json()\n",
    "\n",
    "documents = []\n",
    "\n",
    "for course in documents_raw:\n",
    "    course_name = course['course']\n",
    "\n",
    "    for doc in course['documents']:\n",
    "        doc['course'] = course_name\n",
    "        documents.append(doc)"
   ]
  },
  {
   "cell_type": "code",
   "execution_count": 24,
   "id": "e666245a",
   "metadata": {},
   "outputs": [
    {
     "name": "stdout",
     "output_type": "stream",
     "text": [
      "Requirement already satisfied: elasticsearch in /Users/mayurnawal/anaconda3/envs/llm_zoomcamp/lib/python3.10/site-packages (8.17.2)\n",
      "Requirement already satisfied: elastic-transport<9,>=8.15.1 in /Users/mayurnawal/anaconda3/envs/llm_zoomcamp/lib/python3.10/site-packages (from elasticsearch) (8.17.1)\n",
      "Requirement already satisfied: urllib3<3,>=1.26.2 in /Users/mayurnawal/anaconda3/envs/llm_zoomcamp/lib/python3.10/site-packages (from elastic-transport<9,>=8.15.1->elasticsearch) (2.3.0)\n",
      "Requirement already satisfied: certifi in /Users/mayurnawal/anaconda3/envs/llm_zoomcamp/lib/python3.10/site-packages (from elastic-transport<9,>=8.15.1->elasticsearch) (2025.1.31)\n",
      "Note: you may need to restart the kernel to use updated packages.\n"
     ]
    }
   ],
   "source": [
    "pip install elasticsearch"
   ]
  },
  {
   "cell_type": "code",
   "execution_count": 26,
   "id": "e2d08cb2",
   "metadata": {},
   "outputs": [
    {
     "name": "stderr",
     "output_type": "stream",
     "text": [
      "/Users/mayurnawal/anaconda3/envs/llm_zoomcamp/lib/python3.10/site-packages/tqdm/auto.py:21: TqdmWarning: IProgress not found. Please update jupyter and ipywidgets. See https://ipywidgets.readthedocs.io/en/stable/user_install.html\n",
      "  from .autonotebook import tqdm as notebook_tqdm\n",
      "100%|██████████| 948/948 [00:01<00:00, 510.85it/s]\n"
     ]
    }
   ],
   "source": [
    "from elasticsearch import Elasticsearch\n",
    "\n",
    "es_client = Elasticsearch('http://localhost:9200') \n",
    "\n",
    "index_settings = {\n",
    "    \"settings\": {\n",
    "        \"number_of_shards\": 1,\n",
    "        \"number_of_replicas\": 0\n",
    "    },\n",
    "    \"mappings\": {\n",
    "        \"properties\": {\n",
    "            \"text\": {\"type\": \"text\"},\n",
    "            \"section\": {\"type\": \"text\"},\n",
    "            \"question\": {\"type\": \"text\"},\n",
    "            \"course\": {\"type\": \"keyword\"} \n",
    "        }\n",
    "    }\n",
    "}\n",
    "\n",
    "index_name = \"course-questions\"\n",
    "\n",
    "es_client.indices.create(index=index_name, body=index_settings)\n",
    "\n",
    "from tqdm.auto import tqdm\n",
    "\n",
    "for doc in tqdm(documents):\n",
    "    es_client.index(index=index_name, document=doc) "
   ]
  },
  {
   "cell_type": "code",
   "execution_count": null,
   "id": "fa689266",
   "metadata": {},
   "outputs": [],
   "source": [
    "# homework - lecture - 1 "
   ]
  },
  {
   "cell_type": "code",
   "execution_count": 47,
   "id": "831e9f6b",
   "metadata": {},
   "outputs": [],
   "source": [
    "def elastic_search_asn(query):\n",
    "    search_query = {\n",
    "        \"size\": 3, # 5,\n",
    "        \"query\": {\n",
    "            \"bool\": {\n",
    "                \"must\": {\n",
    "                    \"multi_match\": {\n",
    "                        \"query\": query,\n",
    "                        \"fields\": [\"question^4\", \"text\"],\n",
    "                        \"type\": \"best_fields\"\n",
    "                    }\n",
    "                },\n",
    "                \"filter\": {\n",
    "                    \"term\": {\n",
    "                        \"course\": \"machine-learning-zoomcamp\" # \"data-engineering-zoomcamp\"\n",
    "                    }\n",
    "                }\n",
    "            }\n",
    "        }\n",
    "    }\n",
    "\n",
    "    response = es_client.search(index=index_name, body=search_query)\n",
    "    \n",
    "    result_docs = []\n",
    "    result_score= [] \n",
    "    \n",
    "    for hit in response['hits']['hits']:\n",
    "        result_docs.append(hit['_source'])\n",
    "        result_score.append(hit['_score'])\n",
    "\n",
    "    \n",
    "    return result_docs, result_score"
   ]
  },
  {
   "cell_type": "code",
   "execution_count": 48,
   "id": "b892d1ca",
   "metadata": {},
   "outputs": [],
   "source": [
    "def rag(query):\n",
    "    search_results, result_score = elastic_search_asn(query)\n",
    "    prompt = build_prompt(query, search_results)\n",
    "    answer = llm(prompt)\n",
    "    return answer, result_score"
   ]
  },
  {
   "cell_type": "code",
   "execution_count": 49,
   "id": "2c9da0c4",
   "metadata": {},
   "outputs": [
    {
     "data": {
      "text/plain": [
       "('To execute a command in a running Docker container, you can use the `docker exec` command. Follow these steps:\\n\\n1. Find the container ID of the running container using the `docker ps` command.\\n2. Use the following command to execute a command inside the container:\\n\\n```\\ndocker exec -it <container-id> <command>\\n```\\n\\nFor example, to start a bash shell in the container, you would use:\\n\\n```\\ndocker exec -it <container-id> bash\\n```',\n",
       " [84.050095, 51.04628, 49.938507])"
      ]
     },
     "execution_count": 49,
     "metadata": {},
     "output_type": "execute_result"
    }
   ],
   "source": [
    "query = \"How do I execute a command in a running docker container?\"\n",
    "rag(query) #  [75.54128, 43.922554, 38.684105, 38.33403, 35.94081])\n"
   ]
  },
  {
   "cell_type": "code",
   "execution_count": 50,
   "id": "02ec0c42",
   "metadata": {},
   "outputs": [],
   "source": [
    "queries  = [\"How do I debug a docker container?\", \n",
    "\"How do I copy files from a different folder into docker container’s working directory?\", \n",
    "\"How do Lambda container images work?\", \n",
    "\"How can I annotate a graph?\"]\n",
    "for query in queries: \n",
    "    rag(query)"
   ]
  },
  {
   "cell_type": "code",
   "execution_count": 51,
   "id": "11bb8ee3",
   "metadata": {},
   "outputs": [
    {
     "data": {
      "text/plain": [
       "('To debug a Docker container, you should launch the container image in interactive mode and override the entrypoint so that it starts a bash command. This can be done using the following command:\\n\\n```bash\\ndocker run -it --entrypoint bash <image>\\n```\\n\\nIf the container is already running and you want to execute a command in that specific container, you can do so by:\\n\\n1. Finding the container ID:\\n   ```bash\\n   docker ps\\n   ```\\n\\n2. Executing a bash command inside the running container:\\n   ```bash\\n   docker exec -it <container-id> bash\\n   ```',\n",
       " [103.06507, 51.04628, 43.277237])"
      ]
     },
     "execution_count": 51,
     "metadata": {},
     "output_type": "execute_result"
    }
   ],
   "source": [
    "rag(\"How do I debug a docker container?\")"
   ]
  },
  {
   "cell_type": "code",
   "execution_count": 52,
   "id": "00cdea22",
   "metadata": {},
   "outputs": [
    {
     "data": {
      "text/plain": [
       "('You can copy files from a different folder into a Docker container’s working directory using the `docker cp` command. The basic syntax for this command is:\\n```bash\\ndocker cp /path/to/local/file_or_directory container_id:/path/in/container\\n```\\nThis command allows you to copy a file or directory from your local machine into the specified path within a running Docker container.',\n",
       " [183.81017, 79.590385, 55.26839])"
      ]
     },
     "execution_count": 52,
     "metadata": {},
     "output_type": "execute_result"
    }
   ],
   "source": [
    "rag(\"How do I copy files from a different folder into docker container’s working directory?\")"
   ]
  },
  {
   "cell_type": "code",
   "execution_count": null,
   "id": "0048fb3c",
   "metadata": {},
   "outputs": [
    {
     "data": {
      "text/plain": [
       "('Lambda container images work by allowing you to package your code and dependencies as a container image, which can then be used to create AWS Lambda functions. For a detailed understanding of how Lambda container images function and how Lambda functions are initialized, you can refer to the following documentation:\\n\\n1. [AWS Lambda Images Create Documentation](https://docs.aws.amazon.com/lambda/latest/dg/images-create.html)\\n2. [AWS Lambda Runtimes API Documentation](https://docs.aws.amazon.com/lambda/latest/dg/runtimes-api.html)',\n",
       " [114.34481, 44.687473, 41.297256])"
      ]
     },
     "execution_count": 53,
     "metadata": {},
     "output_type": "execute_result"
    }
   ],
   "source": [
    "rag(\"How do Lambda container images work?\")\n",
    "# ('Lambda container images work by allowing you to package your code and dependencies as a container image, which can then be used to create AWS Lambda functions. For a detailed understanding of how Lambda container images function and how Lambda functions are initialized, you can refer to the following documentation:\\n\\n1. [AWS Lambda Images Create Documentation](https://docs.aws.amazon.com/lambda/latest/dg/images-create.html)\\n2. [AWS Lambda Runtimes API Documentation](https://docs.aws.amazon.com/lambda/latest/dg/runtimes-api.html)',\n"
   ]
  },
  {
   "cell_type": "code",
   "execution_count": 63,
   "id": "b3e9d814",
   "metadata": {},
   "outputs": [],
   "source": [
    "def build_prompt_asn(query, search_results):\n",
    "    prompt_template = \"\"\"\n",
    "You're a course teaching assistant. Answer the QUESTION based on the CONTEXT from the FAQ database.\n",
    "Use only the facts from the CONTEXT when answering the QUESTION.\n",
    "\n",
    "QUESTION: {question}\n",
    "\n",
    "CONTEXT: \n",
    "{context}\n",
    "\"\"\".strip()\n",
    "\n",
    "    context = \"\"\n",
    "    \n",
    "    for doc in search_results:\n",
    "        context = context + f\"question: {doc['question']}\\nanswer: {doc['text']}\\n\\n\"\n",
    "    \n",
    "    prompt = prompt_template.format(question=query, context=context).strip()\n",
    "    return prompt"
   ]
  },
  {
   "cell_type": "code",
   "execution_count": 64,
   "id": "7eb47180",
   "metadata": {},
   "outputs": [],
   "source": [
    "def rag_prompt(query):\n",
    "    search_results, result_score = elastic_search_asn(query)\n",
    "    prompt = build_prompt_asn(query, search_results)\n",
    "    answer = llm(prompt)\n",
    "    return answer, result_score, prompt"
   ]
  },
  {
   "cell_type": "code",
   "execution_count": 65,
   "id": "0c5336e7",
   "metadata": {},
   "outputs": [
    {
     "data": {
      "text/plain": [
       "('Lambda container images allow you to package custom runtimes and dependencies for AWS Lambda functions. This approach gives you more control over the execution environment of your functions. For more in-depth information about how Lambda container images work and how Lambda functions are initialized, you can refer to the following documentation:\\n\\n- [Creating Lambda container images](https://docs.aws.amazon.com/lambda/latest/dg/images-create.html)\\n- [Lambda runtimes API](https://docs.aws.amazon.com/lambda/latest/dg/runtimes-api.html)',\n",
       " [114.34481, 44.687473, 41.297256],\n",
       " \"You're a course teaching assistant. Answer the QUESTION based on the CONTEXT from the FAQ database.\\nUse only the facts from the CONTEXT when answering the QUESTION.\\n\\nQUESTION: How do Lambda container images work?\\n\\nCONTEXT: \\nquestion: How do Lambda container images work?\\nanswer: I wanted to understand how lambda container images work in depth and how lambda functions are initialized, for this reason, I found the following documentation\\nhttps://docs.aws.amazon.com/lambda/latest/dg/images-create.html\\nhttps://docs.aws.amazon.com/lambda/latest/dg/runtimes-api.html\\nAdded by Alejandro aponte\\n\\nquestion: How to pass BentoML content / docker container to Amazon Lambda\\nanswer: Tim from BentoML has prepared a dedicated video tutorial wrt this use case here:\\nhttps://www.youtube.com/watch?v=7gI1UH31xb4&list=PL3MmuxUbc_hIhxl5Ji8t4O6lPAOpHaCLR&index=97\\nKonrad Muehlberg\\n\\nquestion: How do I debug a docker container?\\nanswer: Launch the container image in interactive mode and overriding the entrypoint, so that it starts a bash command.\\ndocker run -it --entrypoint bash <image>\\nIf the container is already running, execute a command in the specific container:\\ndocker ps (find the container-id)\\ndocker exec -it <container-id> bash\\n(Marcos MJD)\")"
      ]
     },
     "execution_count": 65,
     "metadata": {},
     "output_type": "execute_result"
    }
   ],
   "source": [
    "query = \"How do Lambda container images work?\"\n",
    "res = rag_prompt(query) \n",
    "res\n"
   ]
  },
  {
   "cell_type": "code",
   "execution_count": 66,
   "id": "45fdd9e7",
   "metadata": {},
   "outputs": [
    {
     "name": "stdout",
     "output_type": "stream",
     "text": [
      "1237\n"
     ]
    }
   ],
   "source": [
    "print(len(res[2]))"
   ]
  },
  {
   "cell_type": "code",
   "execution_count": 70,
   "id": "d845b19b",
   "metadata": {},
   "outputs": [],
   "source": [
    "import tiktoken \n",
    "encoding = tiktoken.encoding_for_model(\"gpt-4o\")"
   ]
  },
  {
   "cell_type": "code",
   "execution_count": null,
   "id": "81918c4f",
   "metadata": {},
   "outputs": [
    {
     "name": "stdout",
     "output_type": "stream",
     "text": [
      "103\n"
     ]
    }
   ],
   "source": [
    "tokens = encoding.encode(res[0])\n",
    "print(len(tokens)) # prompt token - 293 , response token 103 "
   ]
  },
  {
   "cell_type": "code",
   "execution_count": null,
   "id": "12b0d296",
   "metadata": {},
   "outputs": [],
   "source": [
    "# 150 tokens/request × 1000 requests = 150,000 tokens\n",
    "# 250 tokens/request × 1000 requests = 250,000 tokens\n",
    "# cost input - (150,000 / 1000) × $0.005 = 150 × 0.005 = $0.75\n",
    "# cost output - (250,000 / 1000) × $0.015 = 250 × 0.015 = $3.75\n",
    "# $0.75 (input) + $3.75 (output) = $4.50\n"
   ]
  }
 ],
 "metadata": {
  "kernelspec": {
   "display_name": "llm_zoomcamp",
   "language": "python",
   "name": "python3"
  },
  "language_info": {
   "codemirror_mode": {
    "name": "ipython",
    "version": 3
   },
   "file_extension": ".py",
   "mimetype": "text/x-python",
   "name": "python",
   "nbconvert_exporter": "python",
   "pygments_lexer": "ipython3",
   "version": "3.10.8"
  }
 },
 "nbformat": 4,
 "nbformat_minor": 5
}
